{
 "cells": [
  {
   "cell_type": "markdown",
   "metadata": {},
   "source": [
    "# NI-VSM Domácí úkol 3"
   ]
  },
  {
   "cell_type": "markdown",
   "metadata": {},
   "source": [
    "### Jakub Kučera - kucerj56"
   ]
  },
  {
   "cell_type": "code",
   "execution_count": 1,
   "metadata": {
    "collapsed": false,
    "jupyter": {
     "outputs_hidden": false
    }
   },
   "outputs": [],
   "source": [
    "K = 11\n",
    "L = 6\n",
    "X = 19  # ((K*L*23) % 20) + 1\n",
    "Y = 2  # ((X + ((K*5 + L*7) % 19)) % 20) + 1\n",
    "file_1_path = \"hw1-source/019.txt\"\n",
    "file_2_path = \"hw1-source/002.txt\""
   ]
  },
  {
   "cell_type": "code",
   "execution_count": 2,
   "metadata": {
    "collapsed": false,
    "jupyter": {
     "outputs_hidden": false
    }
   },
   "outputs": [],
   "source": [
    "from collections import Counter\n",
    "from itertools import product\n",
    "import math\n",
    "import matplotlib.pylab as plt\n",
    "import matplotlib.ticker as mtick\n",
    "import numpy as np\n",
    "import scipy.stats as st\n",
    "import seaborn as sns"
   ]
  },
  {
   "cell_type": "markdown",
   "metadata": {},
   "source": [
    "### 0. Z obou datových souborů načtěte texty k analýze. Pro každý text zvlášť zjistěte absolutní četnosti jednotlivých znaků (symbolů včetně mezery), které se v textech vyskytují. Dále předpokládejme, že první text je vygenerován z homogenního markovského řetězce s diskrétním časem."
   ]
  },
  {
   "cell_type": "markdown",
   "metadata": {},
   "source": [
    "Kod pro nacteni textu zkopiruji z 1./2. ukolu"
   ]
  },
  {
   "cell_type": "code",
   "execution_count": 3,
   "metadata": {
    "tags": []
   },
   "outputs": [],
   "source": [
    "def load_text(filename: str) -> str:\n",
    "    with open(filename) as f1:\n",
    "        file_contents = f1.read()\n",
    "    # separate the first line with the book info from rest of the text\n",
    "    info, text = file_contents.split('\\n')\n",
    "    return text"
   ]
  },
  {
   "cell_type": "code",
   "execution_count": 4,
   "metadata": {
    "collapsed": false,
    "jupyter": {
     "outputs_hidden": false
    }
   },
   "outputs": [],
   "source": [
    "def calc_char_counts(filename: str):\n",
    "    with open(filename) as f1:\n",
    "        file_contents = f1.read()\n",
    "    # separate the first line with the book info from rest of the text\n",
    "    info, text = file_contents.split('\\n')\n",
    "    # Split the text into a list of separate characters\n",
    "    list_of_characters = [*text]\n",
    "    # total_characters_count = len(list_of_characters)\n",
    "    # get number of occurrences for each character\n",
    "    char_counter = Counter(list_of_characters)\n",
    "\n",
    "    return dict(sorted(char_counter.items()))"
   ]
  },
  {
   "cell_type": "code",
   "execution_count": 5,
   "metadata": {
    "collapsed": false,
    "jupyter": {
     "outputs_hidden": false
    }
   },
   "outputs": [
    {
     "name": "stdout",
     "output_type": "stream",
     "text": [
      "Cetnosti znaku 1. textu \n",
      "{' ': 1169, 'a': 443, 'b': 95, 'c': 159, 'd': 178, 'e': 669, 'f': 96, 'g': 95, 'h': 326, 'i': 425, 'j': 11, 'k': 29, 'l': 239, 'm': 140, 'n': 382, 'o': 366, 'p': 147, 'q': 10, 'r': 298, 's': 374, 't': 487, 'u': 156, 'v': 55, 'w': 112, 'x': 21, 'y': 109, 'z': 11}\n",
      "Cetnosti znaku 2. textu \n",
      "{' ': 1009, 'a': 343, 'b': 67, 'c': 74, 'd': 181, 'e': 478, 'f': 76, 'g': 85, 'h': 281, 'i': 264, 'j': 5, 'k': 47, 'l': 172, 'm': 74, 'n': 263, 'o': 313, 'p': 61, 'q': 2, 'r': 213, 's': 246, 't': 418, 'u': 115, 'v': 34, 'w': 131, 'x': 1, 'y': 73, 'z': 2}\n"
     ]
    }
   ],
   "source": [
    "text_1 = load_text(file_1_path)\n",
    "file_1_chars_counts = calc_char_counts(file_1_path)\n",
    "print(f\"Cetnosti znaku 1. textu \\n{file_1_chars_counts}\")\n",
    "\n",
    "text_2 = load_text(file_2_path)\n",
    "file_2_chars_counts = calc_char_counts(file_2_path)\n",
    "print(f\"Cetnosti znaku 2. textu \\n{file_2_chars_counts}\")"
   ]
  },
  {
   "cell_type": "markdown",
   "metadata": {},
   "source": [
    "Kontrola jestli oba texty obsahuji stejne znaky (dulezite na pozdejsi ukoly)"
   ]
  },
  {
   "cell_type": "code",
   "execution_count": 6,
   "metadata": {
    "collapsed": false,
    "jupyter": {
     "outputs_hidden": false
    }
   },
   "outputs": [
    {
     "data": {
      "text/plain": [
       "True"
      ]
     },
     "execution_count": 6,
     "metadata": {},
     "output_type": "execute_result"
    }
   ],
   "source": [
    "file_1_chars_counts.keys() == file_2_chars_counts.keys()"
   ]
  },
  {
   "cell_type": "markdown",
   "metadata": {},
   "source": [
    "### (2b) Za předpokladu výše odhadněte matici přechodu markovského řetězce pro první text. Pro odhad matice přechodu vizte přednášku 17. Odhadnuté pravděpodobnosti přechodu vhodně graficky znázorněte, např. použitím heatmapy."
   ]
  },
  {
   "cell_type": "markdown",
   "metadata": {},
   "source": [
    "Nejprve si zjistim cetnosti prechodu z textu"
   ]
  },
  {
   "cell_type": "code",
   "execution_count": 7,
   "metadata": {
    "tags": []
   },
   "outputs": [],
   "source": [
    "def get_transitions(text: str) -> dict[str, int]:\n",
    "    transitions: list[str] = []\n",
    "    # iterate through text and put 2 following characters into the `transitions` list\n",
    "    for i in range(len(text)-1):\n",
    "        transitions.append(text[i:i+2])\n",
    "    # get counts of all transitions and sort them alphabetically\n",
    "    return sorted(Counter(transitions).items())"
   ]
  },
  {
   "cell_type": "code",
   "execution_count": 8,
   "metadata": {
    "tags": []
   },
   "outputs": [],
   "source": [
    "text_1_transitions = get_transitions(text_1)"
   ]
  },
  {
   "cell_type": "markdown",
   "metadata": {},
   "source": [
    "Zkontroluji si, zda-li text obsahuje prechody mezi vsemi monznymi kombinacemi 2 znaku."
   ]
  },
  {
   "cell_type": "code",
   "execution_count": 9,
   "metadata": {
    "tags": []
   },
   "outputs": [
    {
     "data": {
      "text/plain": [
       "729"
      ]
     },
     "execution_count": 9,
     "metadata": {},
     "output_type": "execute_result"
    }
   ],
   "source": [
    "len(file_1_chars_counts.keys()) ** 2"
   ]
  },
  {
   "cell_type": "code",
   "execution_count": 10,
   "metadata": {
    "tags": []
   },
   "outputs": [
    {
     "data": {
      "text/plain": [
       "370"
      ]
     },
     "execution_count": 10,
     "metadata": {},
     "output_type": "execute_result"
    }
   ],
   "source": [
    "len(text_1_transitions)"
   ]
  },
  {
   "cell_type": "markdown",
   "metadata": {},
   "source": [
    "370 z 729 moznych kombinaci. Doplnim tedy nulove cetnosti (nakonec podle implementace konverze do Numpy pole nebylo potreba)"
   ]
  },
  {
   "cell_type": "code",
   "execution_count": 11,
   "metadata": {
    "tags": []
   },
   "outputs": [],
   "source": [
    "def get_all_empty_transitions(text: str) -> dict[str, int]:\n",
    "    transitions: dict[str, int] = {}\n",
    "    for a, b in product(set(text), repeat=2):\n",
    "        transitions[a+b] = 0\n",
    "    return transitions"
   ]
  },
  {
   "cell_type": "code",
   "execution_count": 12,
   "metadata": {
    "tags": []
   },
   "outputs": [
    {
     "data": {
      "text/plain": [
       "729"
      ]
     },
     "execution_count": 12,
     "metadata": {},
     "output_type": "execute_result"
    }
   ],
   "source": [
    "text_1_all_transitions = get_all_empty_transitions(text_1)\n",
    "text_1_all_transitions.update(text_1_transitions)\n",
    "len(text_1_all_transitions)"
   ]
  },
  {
   "cell_type": "markdown",
   "metadata": {},
   "source": [
    "Nyni si prevedu tyto namerene cetnosti do matice"
   ]
  },
  {
   "cell_type": "markdown",
   "metadata": {},
   "source": [
    "Nejdrive si ale udelam \"Slovnik\" pro jednoduchou konverzi znaku na index v matici"
   ]
  },
  {
   "cell_type": "code",
   "execution_count": 13,
   "metadata": {
    "tags": []
   },
   "outputs": [
    {
     "name": "stdout",
     "output_type": "stream",
     "text": [
      "{' ': 0, 'a': 1, 'b': 2, 'c': 3, 'd': 4, 'e': 5, 'f': 6, 'g': 7, 'h': 8, 'i': 9, 'j': 10, 'k': 11, 'l': 12, 'm': 13, 'n': 14, 'o': 15, 'p': 16, 'q': 17, 'r': 18, 's': 19, 't': 20, 'u': 21, 'v': 22, 'w': 23, 'x': 24, 'y': 25, 'z': 26}\n"
     ]
    }
   ],
   "source": [
    "def get_char_index_map(text: str):\n",
    "    index_map: dict[str, int] = {}\n",
    "    for n, c in enumerate(sorted(set(text))):\n",
    "        index_map[c] = n\n",
    "    return index_map\n",
    "text_1_char_index_map = get_char_index_map(text_1)\n",
    "print(text_1_char_index_map)"
   ]
  },
  {
   "cell_type": "code",
   "execution_count": 14,
   "metadata": {
    "tags": []
   },
   "outputs": [],
   "source": [
    "def conv_transitions_2_matrix(all_transitions: dict[str, int], tr_map: dict[str, int]):\n",
    "    # create empty array (filled with 0s) for all possible transitions\n",
    "    transitions = np.zeros(shape=(27, 27))\n",
    "    for c, n in all_transitions.items():\n",
    "        # split transitions into seperate character. Ex.: 'ab' -> 'a' + 'b'\n",
    "        c1, c2 = c\n",
    "        # set count of given character transition in the matrix\n",
    "        transitions[tr_map[c1], tr_map[c2]] = n\n",
    "    return transitions"
   ]
  },
  {
   "cell_type": "code",
   "execution_count": 15,
   "metadata": {
    "tags": []
   },
   "outputs": [
    {
     "name": "stdout",
     "output_type": "stream",
     "text": [
      "[[  0. 137.  49.  43.  24.  36.  33.   7.  85. 103.   4.   6.  27.  50.\n",
      "   28.  66.  72.   4.  28.  94. 157.  11.   8.  84.   0.  12.   1.]\n",
      " [ 35.   0.  11.  19.  18.   1.   1.  10.   0.  16.   1.   6.  35.  11.\n",
      "  104.   0.  10.   0.  37.  45.  49.   3.  17.   0.   1.  13.   0.]\n",
      " [  1.   1.   1.   0.   0.  24.   0.   0.   0.   3.   6.   0.  24.   0.\n",
      "    0.   8.   0.   0.   2.   2.   0.  12.   1.   0.   0.  10.   0.]\n",
      " [  8.  15.   0.   3.   0.  25.   0.   0.  28.   8.   0.   3.   7.   0.\n",
      "    0.  25.   0.   1.  10.   4.  14.   5.   0.   0.   0.   3.   0.]\n",
      " [113.   4.   0.   0.   0.  20.   0.   0.   0.  14.   0.   0.   3.   0.\n",
      "    0.   4.   0.   0.   4.   7.   0.   4.   2.   1.   0.   2.   0.]\n",
      " [211.  31.   0.  20.  44.  31.   6.   3.   0.   8.   0.   2.  23.  16.\n",
      "   71.   0.   5.   3.  81.  48.  34.   2.  11.   2.  13.   3.   1.]\n",
      " [ 37.   5.   0.   0.   0.   6.   2.   0.   0.   5.   0.   0.   0.   0.\n",
      "    0.  30.   0.   0.   5.   0.   3.   3.   0.   0.   0.   0.   0.]\n",
      " [ 24.   6.   0.   0.   0.  12.   0.   4.  12.   7.   0.   0.   9.   3.\n",
      "    5.   0.   0.   0.   4.   2.   1.   6.   0.   0.   0.   0.   0.]\n",
      " [ 39.  58.   0.   0.   0. 117.   0.   0.   0.  55.   0.   0.   1.   5.\n",
      "    0.  37.   0.   0.   1.   0.   9.   1.   0.   0.   0.   3.   0.]\n",
      " [ 21.  14.  13.  32.   1.  10.   3.  13.   0.   0.   0.   2.  24.  23.\n",
      "   82.  18.   5.   1.  12.  56.  73.   3.  10.   0.   2.   0.   7.]\n",
      " [  1.   1.   0.   0.   0.   6.   0.   0.   0.   0.   0.   0.   0.   0.\n",
      "    0.   2.   0.   0.   0.   0.   0.   1.   0.   0.   0.   0.   0.]\n",
      " [  5.   1.   0.   0.   0.  10.   0.   0.   0.   5.   0.   0.   1.   0.\n",
      "    4.   0.   0.   0.   0.   2.   0.   1.   0.   0.   0.   0.   0.]\n",
      " [ 41.  21.   0.   0.  14.  43.   3.   1.   0.  35.   0.   1.  32.   0.\n",
      "    0.   4.   0.   0.   0.   8.   5.   4.   2.   1.   0.  24.   0.]\n",
      " [ 21.  41.   1.   0.   0.  29.   0.   0.   0.   8.   0.   0.   0.   1.\n",
      "    0.   7.  18.   0.   1.   4.   0.   3.   0.   0.   0.   6.   0.]\n",
      " [109.  11.   0.  15.  59.  32.   2.  39.   0.  15.   0.   2.   4.   0.\n",
      "    5.  25.   0.   0.   1.  16.  35.   3.   1.   0.   0.   7.   0.]\n",
      " [ 56.   1.   7.   2.   2.   1.  38.   6.   0.   2.   0.   4.   7.  18.\n",
      "   58.   8.  12.   0.  54.  13.  17.  45.   2.   8.   5.   0.   0.]\n",
      " [  7.  12.   0.   0.   0.  27.   0.   0.  15.  14.   0.   0.   6.   0.\n",
      "    0.  17.   3.   0.  18.   2.   8.  14.   0.   0.   0.   4.   0.]\n",
      " [  1.   0.   0.   0.   0.   0.   0.   0.   0.   0.   0.   0.   0.   0.\n",
      "    0.   0.   0.   0.   0.   0.   0.   9.   0.   0.   0.   0.   0.]\n",
      " [ 51.  22.   1.   3.  14.  79.   2.   4.   2.  28.   0.   2.   2.   4.\n",
      "    5.  17.   0.   0.   6.  17.  24.   3.   1.   1.   0.  10.   0.]\n",
      " [155.   7.   0.  11.   0.  32.   0.   0.  23.  22.   0.   1.   4.   0.\n",
      "    0.  23.   9.   1.   0.  22.  32.  12.   0.  14.   0.   6.   0.]\n",
      " [137.  18.   1.   2.   0.  46.   1.   0. 133.  43.   0.   0.   6.   7.\n",
      "    1.  50.   0.   0.  10.  12.   3.  10.   0.   1.   0.   6.   0.]\n",
      " [  7.  10.  10.   7.   2.   7.   1.   5.   0.   6.   0.   0.  23.   2.\n",
      "   16.   0.   7.   0.  19.  13.  20.   0.   0.   0.   0.   0.   1.]\n",
      " [  0.   3.   0.   0.   0.  42.   0.   0.   0.   7.   0.   0.   0.   0.\n",
      "    0.   2.   0.   0.   0.   0.   0.   1.   0.   0.   0.   0.   0.]\n",
      " [  4.  21.   0.   0.   0.  21.   0.   0.  28.  18.   0.   0.   0.   0.\n",
      "    2.  12.   0.   0.   5.   1.   0.   0.   0.   0.   0.   0.   0.]\n",
      " [  3.   1.   0.   1.   0.   1.   4.   0.   0.   2.   0.   0.   0.   0.\n",
      "    0.   2.   4.   0.   0.   0.   3.   0.   0.   0.   0.   0.   0.]\n",
      " [ 82.   0.   1.   1.   0.   4.   0.   3.   0.   1.   0.   0.   0.   0.\n",
      "    1.   9.   1.   0.   0.   6.   0.   0.   0.   0.   0.   0.   0.]\n",
      " [  0.   2.   0.   0.   0.   7.   0.   0.   0.   0.   0.   0.   1.   0.\n",
      "    0.   0.   0.   0.   0.   0.   0.   0.   0.   0.   0.   0.   1.]]\n"
     ]
    }
   ],
   "source": [
    "text_1_Nij = conv_transitions_2_matrix(text_1_all_transitions, text_1_char_index_map)\n",
    "print(text_1_Nij)"
   ]
  },
  {
   "cell_type": "markdown",
   "metadata": {},
   "source": [
    "Pro odhad pravdepodobnosti prechodu, pouziju vztah a kod ze 6. cviceni"
   ]
  },
  {
   "cell_type": "markdown",
   "metadata": {},
   "source": [
    "$P_{ij} = P(X_{n} = j | X_{n-1} = i) =  \\frac{P(X_{n} = j ∧ X_{n-1} = i)}{P(X_{n-1} = i)}$\n",
    "\n",
    "coz se da zjednodusit na (soucet cetnosti se pokrati)\n",
    "\n",
    "$P_{ij} = \\frac{n_{ij}}{n_{i*}}$"
   ]
  },
  {
   "cell_type": "markdown",
   "metadata": {},
   "source": [
    "Spocitam si sdruzene cetnosti po radcich $n_{i*}$"
   ]
  },
  {
   "cell_type": "code",
   "execution_count": 16,
   "metadata": {
    "tags": []
   },
   "outputs": [
    {
     "data": {
      "text/plain": [
       "array([1169.,  443.,   95.,  159.,  178.,  669.,   96.,   95.,  326.,\n",
       "        425.,   11.,   29.,  239.,  140.,  381.,  366.,  147.,   10.,\n",
       "        298.,  374.,  487.,  156.,   55.,  112.,   21.,  109.,   11.])"
      ]
     },
     "execution_count": 16,
     "metadata": {},
     "output_type": "execute_result"
    }
   ],
   "source": [
    "ni_ = np.sum(text_1_Nij, axis = 1)\n",
    "# ni_2 = np.dot(text_1_Nij, np.ones(27))\n",
    "ni_"
   ]
  },
  {
   "cell_type": "markdown",
   "metadata": {},
   "source": [
    "Pro $n_{i*}$ si udelam inverzi vektoru po slozkach, abych pak mohl nasledne udelat obycejne maticove nasobeni"
   ]
  },
  {
   "cell_type": "code",
   "execution_count": 17,
   "metadata": {
    "tags": []
   },
   "outputs": [
    {
     "data": {
      "text/plain": [
       "array([0.00085543, 0.00225734, 0.01052632, 0.00628931, 0.00561798,\n",
       "       0.00149477, 0.01041667, 0.01052632, 0.00306748, 0.00235294,\n",
       "       0.09090909, 0.03448276, 0.0041841 , 0.00714286, 0.00262467,\n",
       "       0.00273224, 0.00680272, 0.1       , 0.0033557 , 0.0026738 ,\n",
       "       0.00205339, 0.00641026, 0.01818182, 0.00892857, 0.04761905,\n",
       "       0.00917431, 0.09090909])"
      ]
     },
     "execution_count": 17,
     "metadata": {},
     "output_type": "execute_result"
    }
   ],
   "source": [
    "ni_inv = 1/ni_\n",
    "ni_inv"
   ]
  },
  {
   "cell_type": "markdown",
   "metadata": {},
   "source": [
    "Aby kazdny prvek z $n_{i*}$ byl pouze vynasoben s prislusnym radkem, tak si z tohoto vektoru udelam diagonalni matici W (prechozi inverzni krok jsem mohl udelat jako inverzi teto diag matice)"
   ]
  },
  {
   "cell_type": "code",
   "execution_count": 18,
   "metadata": {
    "tags": []
   },
   "outputs": [],
   "source": [
    "W = np.diag(ni_inv)"
   ]
  },
  {
   "cell_type": "markdown",
   "metadata": {
    "tags": []
   },
   "source": [
    "Nyni si konecne vypoctu matici s odhadnutymi pravdepodobnostmi prechodu"
   ]
  },
  {
   "cell_type": "markdown",
   "metadata": {},
   "source": [
    "![HW](HW3_matrix.jpeg)\n",
    "(chtelo by to vymenit k->s a N->n)"
   ]
  },
  {
   "cell_type": "code",
   "execution_count": 19,
   "metadata": {
    "tags": []
   },
   "outputs": [],
   "source": [
    "Pij = np.dot(W, text_1_Nij)\n",
    "# Pij"
   ]
  },
  {
   "cell_type": "markdown",
   "metadata": {},
   "source": [
    "Kontrola podminky stochasticke matice - soucet radku == 1"
   ]
  },
  {
   "cell_type": "code",
   "execution_count": 20,
   "metadata": {
    "tags": []
   },
   "outputs": [
    {
     "data": {
      "text/plain": [
       "array([1., 1., 1., 1., 1., 1., 1., 1., 1., 1., 1., 1., 1., 1., 1., 1., 1.,\n",
       "       1., 1., 1., 1., 1., 1., 1., 1., 1., 1.])"
      ]
     },
     "execution_count": 20,
     "metadata": {},
     "output_type": "execute_result"
    }
   ],
   "source": [
    "np.sum(Pij, axis = 1)"
   ]
  },
  {
   "cell_type": "markdown",
   "metadata": {},
   "source": [
    "Kontrola podminky stochasticke matice - vsechny pravdepodobnosti nezaporne"
   ]
  },
  {
   "cell_type": "code",
   "execution_count": 21,
   "metadata": {
    "tags": []
   },
   "outputs": [
    {
     "data": {
      "text/plain": [
       "True"
      ]
     },
     "execution_count": 21,
     "metadata": {},
     "output_type": "execute_result"
    }
   ],
   "source": [
    "(Pij >= 0).all()"
   ]
  },
  {
   "cell_type": "markdown",
   "metadata": {},
   "source": [
    "Graficke znazorneni odhadnutych pravdepodobnosti prechodu pomoci heatmapy"
   ]
  },
  {
   "cell_type": "code",
   "execution_count": 22,
   "metadata": {
    "tags": []
   },
   "outputs": [
    {
     "data": {
      "image/png": "[encoded data removed]",
      "text/plain": [
       "<Figure size 640x480 with 2 Axes>"
      ]
     },
     "metadata": {},
     "output_type": "display_data"
    }
   ],
   "source": [
    "ax = sns.heatmap(Pij, linewidth=0, xticklabels=text_1_char_index_map.keys(), yticklabels=text_1_char_index_map.keys())#, annot=True)\n",
    "plt.show()"
   ]
  },
  {
   "cell_type": "markdown",
   "metadata": {},
   "source": [
    "### (2b) Na základě matice z předchozího bodu najděte stacionární rozdělení π tohoto řetězce pro první text."
   ]
  },
  {
   "cell_type": "markdown",
   "metadata": {},
   "source": [
    "Hledame tedy takovy retezec, aby platilo\n",
    "\n",
    "$\\pi = P * \\pi$\n",
    "\n",
    "\n",
    "(Puvodne jsem se tady celkem dlouho delal s tim, ze jsem si to spatne odvodil na $\\pi = (P - I)^{-1}$ a pocital v pripade ze (p-I) je regularni. Bohuzel neumim vytykat matice od vektoru, tak smazano :cry:  )"
   ]
  },
  {
   "cell_type": "markdown",
   "metadata": {},
   "source": [
    "Jelikoz matice P vznikla ze samotneho rozdeleni znaku (ve skutecnosti samozrejme ze dvojic pismen a ne ze samostatnych pismen), tak zkusim overit stacionarni podminku $\\pi = P * \\pi$ pro rozdeleni znaku v textu."
   ]
  },
  {
   "cell_type": "markdown",
   "metadata": {},
   "source": [
    "Ziskam si tedy rozdeleni znaku z 1. textu"
   ]
  },
  {
   "cell_type": "code",
   "execution_count": 23,
   "metadata": {
    "tags": []
   },
   "outputs": [],
   "source": [
    "# copy pasted from 1./2. HW\n",
    "def calc_char_probabilities(text: str):\n",
    "    list_of_characters = [*text]\n",
    "    total_characters_count = len(list_of_characters)\n",
    "    char_counter = Counter(list_of_characters)\n",
    "    char_probabilities = {}\n",
    "    for c, n in sorted(char_counter.items()):\n",
    "        char_probabilities[c] = n/total_characters_count\n",
    "    return char_probabilities\n",
    "file_1_chars_prob = calc_char_probabilities(text_1)\n",
    "file_1_chars_prob_arr = np.array(list(file_1_chars_prob.values()))"
   ]
  },
  {
   "cell_type": "code",
   "execution_count": 24,
   "metadata": {
    "tags": []
   },
   "outputs": [
    {
     "data": {
      "text/plain": [
       "array([0.17706756, 0.06710088, 0.01438958, 0.02408361, 0.02696153,\n",
       "       0.10133293, 0.01454105, 0.01438958, 0.04937898, 0.06437443,\n",
       "       0.00166616, 0.00439261, 0.03620115, 0.0212057 , 0.05786125,\n",
       "       0.05543775, 0.02226598, 0.00151469, 0.04513784, 0.0566495 ,\n",
       "       0.07376553, 0.0236292 , 0.00833081, 0.01696456, 0.00318085,\n",
       "       0.01651015, 0.00166616])"
      ]
     },
     "execution_count": 24,
     "metadata": {},
     "output_type": "execute_result"
    }
   ],
   "source": [
    "file_1_chars_prob_arr"
   ]
  },
  {
   "cell_type": "markdown",
   "metadata": {},
   "source": [
    "Kontrola podminky stacionarity - $\\pi = P * \\pi$"
   ]
  },
  {
   "cell_type": "code",
   "execution_count": 25,
   "metadata": {
    "tags": []
   },
   "outputs": [
    {
     "data": {
      "text/plain": [
       "0.3369992244716208"
      ]
     },
     "execution_count": 25,
     "metadata": {},
     "output_type": "execute_result"
    }
   ],
   "source": [
    "np.linalg.norm(file_1_chars_prob_arr - np.dot(Pij, file_1_chars_prob_arr))"
   ]
  },
  {
   "cell_type": "markdown",
   "metadata": {},
   "source": [
    "F norma rozdilu / \"velikost chyby\" = 0.33. Na numerickou chybu to je moc. Vzhledem k tomu, ze je zde 27 prvku/chlivecku tak to \"neni tak spatne\" (ano, soucet musi porat davat 1, takze z jineho pohledu stale daleko).\n",
    "\n",
    "Napisu si iterativni algoritmus pro \"doladeni\" hodnoty $\\pi$. Vyuziju faktu, ze z prednasky vime, ze toto $\\pi_t = P * \\pi_{t-1}$ by melo konvergovat do stacionarniho rozdeleni."
   ]
  },
  {
   "cell_type": "code",
   "execution_count": 26,
   "metadata": {
    "tags": []
   },
   "outputs": [
    {
     "name": "stdout",
     "output_type": "stream",
     "text": [
      "iter 0, 0.15880042630399327\n",
      "iter 10, 7.138786587397818e-07\n",
      "iter 20, 1.148043786647615e-11\n",
      "iter 30, 1.5328517645723046e-16\n",
      "iter 40, 0.0\n",
      "iter 50, 0.0\n",
      "iter 60, 0.0\n",
      "iter 70, 0.0\n",
      "iter 80, 0.0\n",
      "iter 90, 0.0\n"
     ]
    }
   ],
   "source": [
    "pi_prev = file_1_chars_prob_arr\n",
    "for i in range(0, 100):\n",
    "    pi_new = np.dot(Pij, pi_prev)\n",
    "    if i % 10 == 0:\n",
    "        print(f\"iter {i}, {np.linalg.norm(pi_new - np.dot(Pij, pi_new))}\")\n",
    "    # print(f\"iter {i}, {np.linalg.norm(pi_new - np.dot(Pij, pi_new))}\")\n",
    "    pi_prev = pi_new"
   ]
  },
  {
   "cell_type": "markdown",
   "metadata": {
    "tags": []
   },
   "source": [
    "\"Chyba\" zkonvergovala primo do 0 po 34 iteracich"
   ]
  },
  {
   "cell_type": "code",
   "execution_count": 27,
   "metadata": {
    "tags": []
   },
   "outputs": [
    {
     "data": {
      "text/plain": [
       "array([0.07524056, 0.07524056, 0.07524056, 0.07524056, 0.07524056,\n",
       "       0.07524056, 0.07524056, 0.07524056, 0.07524056, 0.07524056,\n",
       "       0.07524056, 0.07524056, 0.07524056, 0.07524056, 0.07524056,\n",
       "       0.07524056, 0.07524056, 0.07524056, 0.07524056, 0.07524056,\n",
       "       0.07524056, 0.07524056, 0.07524056, 0.07524056, 0.07524056,\n",
       "       0.07524056, 0.07524056])"
      ]
     },
     "execution_count": 27,
     "metadata": {},
     "output_type": "execute_result"
    }
   ],
   "source": [
    "pi_new"
   ]
  },
  {
   "cell_type": "markdown",
   "metadata": {},
   "source": [
    "Overim si podminku souctu pravdepodobnosti"
   ]
  },
  {
   "cell_type": "code",
   "execution_count": 28,
   "metadata": {
    "tags": []
   },
   "outputs": [
    {
     "data": {
      "text/plain": [
       "2.031495018174551"
      ]
     },
     "execution_count": 28,
     "metadata": {},
     "output_type": "execute_result"
    }
   ],
   "source": [
    "np.sum(pi_new)"
   ]
  },
  {
   "cell_type": "markdown",
   "metadata": {},
   "source": [
    "!= 1. Zkusim vydelit timto souctem a nasledne opet overit stacionaritu"
   ]
  },
  {
   "cell_type": "code",
   "execution_count": 29,
   "metadata": {
    "tags": []
   },
   "outputs": [],
   "source": [
    "# a_normed_pi_new = pi_new / np.linalg.norm(pi_new)\n",
    "a_normed_pi_new = pi_new / np.sum(pi_new)"
   ]
  },
  {
   "cell_type": "code",
   "execution_count": 30,
   "metadata": {
    "tags": []
   },
   "outputs": [
    {
     "data": {
      "text/plain": [
       "0.9999999999999998"
      ]
     },
     "execution_count": 30,
     "metadata": {},
     "output_type": "execute_result"
    }
   ],
   "source": [
    "np.sum(a_normed_pi_new)"
   ]
  },
  {
   "cell_type": "code",
   "execution_count": 31,
   "metadata": {
    "tags": []
   },
   "outputs": [
    {
     "data": {
      "text/plain": [
       "2.3013707539344673e-17"
      ]
     },
     "execution_count": 31,
     "metadata": {},
     "output_type": "execute_result"
    }
   ],
   "source": [
    "np.linalg.norm(a_normed_pi_new - np.dot(Pij, a_normed_pi_new))"
   ]
  },
  {
   "cell_type": "code",
   "execution_count": 32,
   "metadata": {
    "tags": []
   },
   "outputs": [
    {
     "data": {
      "text/plain": [
       "array([0.03703704, 0.03703704, 0.03703704, 0.03703704, 0.03703704,\n",
       "       0.03703704, 0.03703704, 0.03703704, 0.03703704, 0.03703704,\n",
       "       0.03703704, 0.03703704, 0.03703704, 0.03703704, 0.03703704,\n",
       "       0.03703704, 0.03703704, 0.03703704, 0.03703704, 0.03703704,\n",
       "       0.03703704, 0.03703704, 0.03703704, 0.03703704, 0.03703704,\n",
       "       0.03703704, 0.03703704])"
      ]
     },
     "execution_count": 32,
     "metadata": {},
     "output_type": "execute_result"
    }
   ],
   "source": [
    "a_normed_pi_new"
   ]
  },
  {
   "cell_type": "markdown",
   "metadata": {},
   "source": [
    "`a_normed_pi_new` je tedy stacionarni rozdeleni. \n",
    "Plati:\n",
    "\n",
    "- soucet prvku = 1\n",
    "\n",
    "- $\\pi = P * \\pi$\n",
    "\n",
    "- vsechny prvky jsou nezaporne"
   ]
  },
  {
   "cell_type": "code",
   "execution_count": 33,
   "metadata": {
    "tags": []
   },
   "outputs": [],
   "source": [
    "pi = a_normed_pi_new"
   ]
  },
  {
   "cell_type": "markdown",
   "metadata": {},
   "source": [
    "### (2b) Porovnejte rozdělení znaků druhého textu se stacionárním rozdělením π, tj. na hladině významnosti 5 % otestujte hypotézu, že rozdělení znaků druhého testu se rovná rozdělení π z předchozího bodu."
   ]
  },
  {
   "cell_type": "code",
   "execution_count": 34,
   "metadata": {
    "tags": []
   },
   "outputs": [],
   "source": [
    "alpha = 0.05"
   ]
  },
  {
   "cell_type": "markdown",
   "metadata": {},
   "source": [
    "Pro toto otestovani pouziju test dobre shody $\\chi^2$ pro zname parametry. $\\pi$ si vyberu jako to zname rozdeleni s pravdepodobnostmi $p_1, ... p_k$ a budu zkoumat, zda-li se mu rovna rozdeleni p' znaku z 2. textu s cetnostmi $N_1, ... N_k$."
   ]
  },
  {
   "cell_type": "markdown",
   "metadata": {},
   "source": [
    "Hypozy zformuluji jako:\n",
    "$H_0: \\pi = p2$ a $H_a: \\pi \\ne p2$"
   ]
  },
  {
   "cell_type": "markdown",
   "metadata": {},
   "source": [
    "![df](hypotezA_chi2.png)"
   ]
  },
  {
   "cell_type": "markdown",
   "metadata": {},
   "source": [
    "ve screenshotu z handoutu, si za `p` dosadim $\\pi$"
   ]
  },
  {
   "cell_type": "markdown",
   "metadata": {},
   "source": [
    "`k` bude v tomto pripade pocet unikatnich znaku (z 1. textu, ale musi se rovnat i z textu 2)"
   ]
  },
  {
   "cell_type": "code",
   "execution_count": 35,
   "metadata": {},
   "outputs": [
    {
     "data": {
      "text/plain": [
       "27"
      ]
     },
     "execution_count": 35,
     "metadata": {},
     "output_type": "execute_result"
    }
   ],
   "source": [
    "k = len(file_1_chars_counts)\n",
    "k"
   ]
  },
  {
   "cell_type": "code",
   "execution_count": 36,
   "metadata": {
    "tags": []
   },
   "outputs": [
    {
     "data": {
      "text/plain": [
       "True"
      ]
     },
     "execution_count": 36,
     "metadata": {},
     "output_type": "execute_result"
    }
   ],
   "source": [
    "# check char counts from both texts. Already done above, but just to be sure, keep it here\n",
    "len(file_1_chars_counts) == len(file_2_chars_counts)"
   ]
  },
  {
   "cell_type": "markdown",
   "metadata": {},
   "source": [
    "Jako `n` si vezmu pocet vsech vsech znaku z 2.textu "
   ]
  },
  {
   "cell_type": "code",
   "execution_count": 37,
   "metadata": {
    "tags": []
   },
   "outputs": [
    {
     "data": {
      "text/plain": [
       "5028"
      ]
     },
     "execution_count": 37,
     "metadata": {},
     "output_type": "execute_result"
    }
   ],
   "source": [
    "n = len(text_2)\n",
    "n"
   ]
  },
  {
   "cell_type": "markdown",
   "metadata": {},
   "source": [
    "Cetnosti $N_1, ..., N_k$ si dam do numpy vektoru pro zjednoduseni implementace nasledujicich poctu"
   ]
  },
  {
   "cell_type": "code",
   "execution_count": 38,
   "metadata": {
    "tags": []
   },
   "outputs": [
    {
     "data": {
      "text/plain": [
       "array([1009,  343,   67,   74,  181,  478,   76,   85,  281,  264,    5,\n",
       "         47,  172,   74,  263,  313,   61,    2,  213,  246,  418,  115,\n",
       "         34,  131,    1,   73,    2])"
      ]
     },
     "execution_count": 38,
     "metadata": {},
     "output_type": "execute_result"
    }
   ],
   "source": [
    "# file_2_chars_counts\n",
    "Ni = np.array(list(file_2_chars_counts.values()))\n",
    "Ni"
   ]
  },
  {
   "cell_type": "markdown",
   "metadata": {},
   "source": [
    "Spocitam si teoreticke cetnosti z $n*\\pi_i$"
   ]
  },
  {
   "cell_type": "code",
   "execution_count": 39,
   "metadata": {
    "tags": []
   },
   "outputs": [
    {
     "data": {
      "text/plain": [
       "array([186.22222222, 186.22222222, 186.22222222, 186.22222222,\n",
       "       186.22222222, 186.22222222, 186.22222222, 186.22222222,\n",
       "       186.22222222, 186.22222222, 186.22222222, 186.22222222,\n",
       "       186.22222222, 186.22222222, 186.22222222, 186.22222222,\n",
       "       186.22222222, 186.22222222, 186.22222222, 186.22222222,\n",
       "       186.22222222, 186.22222222, 186.22222222, 186.22222222,\n",
       "       186.22222222, 186.22222222, 186.22222222])"
      ]
     },
     "execution_count": 39,
     "metadata": {},
     "output_type": "execute_result"
    }
   ],
   "source": [
    "npi = n * pi\n",
    "npi"
   ]
  },
  {
   "cell_type": "markdown",
   "metadata": {},
   "source": [
    "(Vsechny teoreticke cetnosti jsou vetsi nez 5, nemusim tedy mergovat hodnoty. U namerenych cetnosti jsou sice nektere mensi 5, ale tam nas to nezajima.)"
   ]
  },
  {
   "cell_type": "markdown",
   "metadata": {},
   "source": [
    "Nyni si muzu doplnit do statistiky"
   ]
  },
  {
   "cell_type": "code",
   "execution_count": 40,
   "metadata": {
    "tags": []
   },
   "outputs": [
    {
     "data": {
      "text/plain": [
       "6217.918854415277"
      ]
     },
     "execution_count": 40,
     "metadata": {},
     "output_type": "execute_result"
    }
   ],
   "source": [
    "Chi2 = np.sum(np.square(Ni - npi)/npi)\n",
    "Chi2"
   ]
  },
  {
   "cell_type": "markdown",
   "metadata": {},
   "source": [
    "A kriticka hodnota"
   ]
  },
  {
   "cell_type": "code",
   "execution_count": 41,
   "metadata": {
    "tags": []
   },
   "outputs": [
    {
     "data": {
      "text/plain": [
       "38.88513865983007"
      ]
     },
     "execution_count": 41,
     "metadata": {},
     "output_type": "execute_result"
    }
   ],
   "source": [
    "chi2 = st.chi2.isf(alpha,k-1)\n",
    "chi2"
   ]
  },
  {
   "cell_type": "markdown",
   "metadata": {},
   "source": [
    "Kriticky obor je $\\chi^2 \\ge \\chi^2_{\\alpha, k-1}$, co je splneno vyslednymi hodnotami.\n",
    "\n",
    "Zamitame tedy hypotezu $H_0$ ve prospech $H_a$ na hladine 5%. To znamena ze rozdeleni znaku z 2. textu neni stejne jako $\\pi$ rozdeleni (stacionarni rozdeleni pro 1. text) opet na hladine 5%.\n",
    "\n"
   ]
  },
  {
   "cell_type": "code",
   "execution_count": null,
   "metadata": {},
   "outputs": [],
   "source": []
  },
  {
   "cell_type": "code",
   "execution_count": null,
   "metadata": {},
   "outputs": [],
   "source": []
  }
 ],
 "metadata": {
  "kernelspec": {
   "display_name": "Python 3 (ipykernel)",
   "language": "python",
   "name": "python3"
  },
  "language_info": {
   "codemirror_mode": {
    "name": "ipython",
    "version": 3
   },
   "file_extension": ".py",
   "mimetype": "text/x-python",
   "name": "python",
   "nbconvert_exporter": "python",
   "pygments_lexer": "ipython3",
   "version": "3.10.4"
  }
 },
 "nbformat": 4,
 "nbformat_minor": 4
}
